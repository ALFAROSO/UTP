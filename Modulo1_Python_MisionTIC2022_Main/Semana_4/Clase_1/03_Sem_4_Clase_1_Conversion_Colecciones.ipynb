{
 "cells": [
  {
   "cell_type": "markdown",
   "metadata": {},
   "source": [
    "# Introducción\n",
    "\n",
    "• En la Unidad 3, hemos trabajado con varios contenedores, además hemos\n",
    "aprendido a diferenciar cuándo pueden ajustarse mejor a nuestras\n",
    "necesidades.\n",
    "\n",
    "• Una de las grandes fortalezas del lenguaje Python, es la gran flexibilidad que\n",
    "presentan los contenedores para su creación y actualización.\n",
    "\n",
    "• Adicionalmente, en Python es posible transformar un contenedor cargado\n",
    "de información, a otro tipo de contenedor en caso de que necesitemos\n",
    "cambiar la forma como manipulamos la información que alojan"
   ]
  },
  {
   "cell_type": "markdown",
   "metadata": {},
   "source": [
    "Conversion de lista a tuplas"
   ]
  },
  {
   "cell_type": "code",
   "execution_count": null,
   "metadata": {},
   "outputs": [],
   "source": [
    "Cadena1 = 'hola '    #Secuencial inmutable\n",
    "Cadena2 = 'mundo'   #Secuencial inmutable\n",
    "numero = 15\n",
    "Tupla = (1,2,3,4,5) #Secuencial inmutable\n",
    "Lista = [1,2,3,4,5] #Secuencial mutable\n",
    "Diccionario = {'01': 1, '02': 2, '03': 4}   #No secuencial mutable\n",
    "Conjunto = {1,2,3,4,5}  #No secuencial inmmutable"
   ]
  },
  {
   "cell_type": "markdown",
   "metadata": {},
   "source": [
    "Conversion de cadena a lista"
   ]
  },
  {
   "cell_type": "code",
   "execution_count": null,
   "metadata": {},
   "outputs": [],
   "source": [
    "print('Conversion de cadena a lista: ', Cadena1,Cadena2)\n",
    "lista = list(Cadena1+Cadena2)\n",
    "\n",
    "print('Conversion de cadena a lista: ',lista)\n",
    "union = ''.join(lista)\n",
    "\n",
    "print('uso de join: ', union)"
   ]
  },
  {
   "cell_type": "markdown",
   "metadata": {},
   "source": [
    "Conversion de cadena a tuplas"
   ]
  },
  {
   "cell_type": "code",
   "execution_count": null,
   "metadata": {},
   "outputs": [],
   "source": [
    "tupla1 = tuple(Cadena2)\n",
    "print('\\nConversion de cadena a tuplas: ', tupla1)\n",
    "\n",
    "tuplaGral = (tupla1, numero, tuple(Cadena2) )\n",
    "print('Conversion de cadena a tuplas: ', tuplaGral)"
   ]
  },
  {
   "cell_type": "markdown",
   "metadata": {},
   "source": [
    "Conversion de cadena a set() (conjunto)"
   ]
  },
  {
   "cell_type": "code",
   "execution_count": null,
   "metadata": {},
   "outputs": [],
   "source": [
    "print('\\nConversion de cadena a conjunto: ', Cadena1, Cadena2)\n",
    "print('Conversion de cadena a conjunto: ', set(Cadena1+Cadena2))"
   ]
  },
  {
   "cell_type": "markdown",
   "metadata": {},
   "source": [
    "Conversion de lista a tuplas"
   ]
  },
  {
   "cell_type": "code",
   "execution_count": null,
   "metadata": {},
   "outputs": [],
   "source": [
    "lista = list(Cadena2)\n",
    "print('\\nConversion de lista a tuplas: ', lista)\n",
    "\n",
    "tupla = tuple(lista)\n",
    "print('Conversion de lista a tuplas: ', tupla)"
   ]
  },
  {
   "cell_type": "markdown",
   "metadata": {},
   "source": [
    "Conversion de lista a set()"
   ]
  },
  {
   "cell_type": "code",
   "execution_count": null,
   "metadata": {},
   "outputs": [],
   "source": [
    "print('\\nConversion de lista a set(): ', list(Cadena2))\n",
    "\n",
    "Conjunto = set(Cadena2)\n",
    "\n",
    "print('Conversion de lista a set(): ', Conjunto)"
   ]
  },
  {
   "cell_type": "markdown",
   "metadata": {},
   "source": [
    "Conversion de tupla a cadena"
   ]
  },
  {
   "cell_type": "code",
   "execution_count": null,
   "metadata": {},
   "outputs": [],
   "source": [
    "tupla = tuple(Cadena2)\n",
    "print('\\nConversion de tupla a cadena: ', tupla)\n",
    "cadena = ''.join(tupla)\n",
    "print('Conversion de tupla a cadena: ', cadena)"
   ]
  },
  {
   "cell_type": "markdown",
   "metadata": {},
   "source": [
    "Conversion de tuplas a lista"
   ]
  },
  {
   "cell_type": "code",
   "execution_count": null,
   "metadata": {},
   "outputs": [],
   "source": [
    "tupla = tuple(Cadena1+Cadena2)\n",
    "print('\\nConversion de tuplas a lista: ', tupla)\n",
    "\n",
    "lista = list(tupla)\n",
    "print('Conversion de tuplas a lista: ', lista)"
   ]
  },
  {
   "cell_type": "markdown",
   "metadata": {},
   "source": [
    "Conversion de tuplas a conjunto"
   ]
  },
  {
   "cell_type": "code",
   "execution_count": null,
   "metadata": {},
   "outputs": [],
   "source": [
    "tupla = tuple(Cadena1+Cadena2)\n",
    "print('\\nConversion de tuplas a conjunto: ', tupla)\n",
    "conjunto = set(tupla)\n",
    "conjunto.add(2546)\n",
    "print('Conversion de tuplas a conjunto: ',conjunto)"
   ]
  },
  {
   "cell_type": "markdown",
   "metadata": {},
   "source": [
    "Conversion de conjunto a cadena"
   ]
  },
  {
   "cell_type": "code",
   "execution_count": null,
   "metadata": {},
   "outputs": [],
   "source": [
    "conjunto = set(Cadena1+Cadena2)\n",
    "print('\\nConversion de conjunto a cadena: ',conjunto)\n",
    "cadena = ''.join(conjunto)\n",
    "print('Conversion de conjunto a cadena: ',cadena)"
   ]
  },
  {
   "cell_type": "markdown",
   "metadata": {},
   "source": [
    "Conversion de conjunto a tupla"
   ]
  },
  {
   "cell_type": "code",
   "execution_count": null,
   "metadata": {},
   "outputs": [],
   "source": [
    "conjunto = set(Cadena2)\n",
    "print('\\nConversion de conjunto a tupla: ', conjunto)\n",
    "tupla = tuple(conjunto)\n",
    "print('Conversion de conjunto a tupla: ', tupla)"
   ]
  },
  {
   "cell_type": "markdown",
   "metadata": {},
   "source": [
    "Conversion de conjunto a lista"
   ]
  },
  {
   "cell_type": "code",
   "execution_count": null,
   "metadata": {},
   "outputs": [],
   "source": [
    "conjunto = set(cadena)\n",
    "print('\\nConversion de conjunto a lista: ', conjunto)\n",
    "lista = list(conjunto)\n",
    "print('Conversion de conjunto a lista: ', lista)"
   ]
  },
  {
   "cell_type": "markdown",
   "metadata": {},
   "source": [
    "#Conversión a Diccionarios\n",
    "\n",
    "• Los diccionarios mezclan características de los conjuntos al no permitir\n",
    "repeticiones de sus etiquetas, conservan el orden como los contenedores\n",
    "diferentes a los conjuntos, pero su conversión requiere resolver la llave o\n",
    "etiqueta que tiene cada uno de sus elementos.\n",
    "\n",
    "• A diferencia de las tuplas, cadenas y listas, cuyos índices o etiquetas son\n",
    "autonuméricos, el diccionario necesita su especificación.\n",
    "\n",
    "• En los siguientes ejemplos se presenta el uso de la función zip para relacionar\n",
    "una colección generada automáticamente con los elementos y satisfacer la\n",
    "llave. Esta función se presentará con más detalle en el transcurso de la unidad."
   ]
  },
  {
   "cell_type": "markdown",
   "metadata": {},
   "source": [
    "Conversion de cadena a diccionario"
   ]
  },
  {
   "cell_type": "code",
   "execution_count": null,
   "metadata": {},
   "outputs": [],
   "source": [
    "print('\\nConversion de cadena a diccionario: ', Cadena2)\n",
    "diccionario = dict(zip(range(len(Cadena2)), Cadena2))\n",
    "print('Conversion de cadena a diccionario: ', diccionario)"
   ]
  },
  {
   "cell_type": "markdown",
   "metadata": {},
   "source": [
    "Conversion de lista a diccionario"
   ]
  },
  {
   "cell_type": "code",
   "execution_count": null,
   "metadata": {},
   "outputs": [],
   "source": [
    "lista = list(Cadena1 + Cadena2)\n",
    "print('\\nConversion de lista a diccionario', lista)\n",
    "diccionario = dict(zip(range(len(lista)), lista))\n",
    "print('Conversion de lista a diccionario', diccionario)"
   ]
  },
  {
   "cell_type": "markdown",
   "metadata": {},
   "source": [
    "Conversion de tupla a diccionario"
   ]
  },
  {
   "cell_type": "code",
   "execution_count": null,
   "metadata": {},
   "outputs": [],
   "source": [
    "tupla = tuple(Cadena1 + Cadena2)\n",
    "print('\\nConversion de tupla a diccionario', tupla)\n",
    "diccionario = dict(zip(range(len(tupla)), tupla))\n",
    "print('Conversion de tupla a diccionario', diccionario)"
   ]
  },
  {
   "cell_type": "markdown",
   "metadata": {},
   "source": [
    "Conversion de conjunto a diccionario"
   ]
  },
  {
   "cell_type": "code",
   "execution_count": null,
   "metadata": {},
   "outputs": [],
   "source": [
    "conjunto = set(Cadena1 + Cadena2)\n",
    "print('\\nConversion de conjunto a diccionario', conjunto)\n",
    "diccionario = dict(zip(range(len(conjunto)), conjunto))\n",
    "print('Conversion de conjunto a diccionario', diccionario)"
   ]
  },
  {
   "cell_type": "markdown",
   "metadata": {},
   "source": [
    "#Conversión desde Diccionarios\n",
    "\n",
    "• En el proceso contrario, dado que los diccionarios constituyen dos\n",
    "colecciones, una correspondiente a las llaves y otra correspondiente a los\n",
    "valores, se debe especificar cuál colección se requiere, o generalizar\n",
    "obteniendo todos los ítems, que son retornados como tuplas.\n",
    "\n",
    "• En los siguientes ejemplos se presenta cómo la información se puede\n",
    "extraer y convertir en cualquiera de los contenedores.\n",
    "\n",
    "• En algunos casos sólo se convierten los valores por la compatibilidad de\n",
    "tipos que requerirían funciones adicionales."
   ]
  },
  {
   "cell_type": "markdown",
   "metadata": {},
   "source": [
    "Conversion de diccionario a cadena"
   ]
  },
  {
   "cell_type": "code",
   "execution_count": null,
   "metadata": {},
   "outputs": [],
   "source": [
    "diccionario = dict({0: 'h', 1: 'o', 2: 'l', 3: 'a', 4: ' ', 5: 'm', 6: 'u', 7: 'n', 8: 'd', 9: 'o'})\n",
    "print('\\nConversion de diccionario a cadena: ',diccionario)\n",
    "cadena = ''.join(diccionario.values())\n",
    "print('Conversion de diccionario a cadena: ',cadena)"
   ]
  },
  {
   "cell_type": "markdown",
   "metadata": {},
   "source": [
    "Conversion de diccionario a tuplas"
   ]
  },
  {
   "cell_type": "code",
   "execution_count": null,
   "metadata": {},
   "outputs": [],
   "source": [
    "diccionario = dict({0: 'h', 1: 'o', 2: 'l', 3: 'a', 4: ' ', 5: 'm', 6: 'u', 7: 'n', 8: 'd', 9: 'o'})\n",
    "print('\\nConversion de diccionario a tuplas: ',diccionario)\n",
    "tuplaLlave = tuple(diccionario.keys())\n",
    "print('Conversion de diccionario a tuplas: ',tuplaLlave)\n",
    "tuplaValores = tuple(diccionario.values())\n",
    "print('Conversion de diccionario a tuplas: ',tuplaValores)\n",
    "tuplaItems = tuple(diccionario.items())\n",
    "print('Conversion de diccionario a tuplas: ',tuplaItems)"
   ]
  },
  {
   "cell_type": "markdown",
   "metadata": {},
   "source": [
    "Conversion de diccionario a lista"
   ]
  },
  {
   "cell_type": "code",
   "execution_count": null,
   "metadata": {},
   "outputs": [],
   "source": [
    "diccionario = dict({0: 'h', 1: 'o', 2: 'l', 3: 'a', 4: ' ', 5: 'm', 6: 'u', 7: 'n', 8: 'd', 9: 'o'})\n",
    "print('\\nConversion de diccionario a lista: ',diccionario)\n",
    "listaLlave = list(diccionario.keys())\n",
    "print('Conversion de diccionario a lista: ',listaLlave)\n",
    "listaValores = list(diccionario.values())\n",
    "print('Conversion de diccionario a lista: ',listaValores)\n",
    "listaItems = list(diccionario.items())\n",
    "print('Conversion de diccionario a lista: ',listaItems)"
   ]
  },
  {
   "cell_type": "markdown",
   "metadata": {},
   "source": [
    "Conversion de diccionario a conjunto"
   ]
  },
  {
   "cell_type": "code",
   "execution_count": null,
   "metadata": {},
   "outputs": [],
   "source": [
    "diccionario = dict({0: 'h', 1: 'o', 2: 'l', 3: 'a', 4: ' ', 5: 'm', 6: 'u', 7: 'n', 8: 'd', 9: 'o'})\n",
    "print('\\nConversion de diccionario a conjunto: ',diccionario)\n",
    "conjuntoLlave = set(diccionario.keys())\n",
    "print('Conversion de diccionario a conjunto: ',conjuntoLlave)\n",
    "conjuntoValores = set(diccionario.values())\n",
    "print('Conversion de diccionario a conjunto: ',conjuntoValores)\n",
    "conjuntoItems = set(diccionario.items())\n",
    "print('Conversion de diccionario a conjunto: ',conjuntoItems)"
   ]
  }
 ],
 "metadata": {
  "interpreter": {
   "hash": "ad2bdc8ecc057115af97d19610ffacc2b4e99fae6737bb82f5d7fb13d2f2c186"
  },
  "kernelspec": {
   "display_name": "Python 3.9.7 ('base')",
   "language": "python",
   "name": "python3"
  },
  "language_info": {
   "codemirror_mode": {
    "name": "ipython",
    "version": 3
   },
   "file_extension": ".py",
   "mimetype": "text/x-python",
   "name": "python",
   "nbconvert_exporter": "python",
   "pygments_lexer": "ipython3",
   "version": "3.9.7"
  },
  "orig_nbformat": 4
 },
 "nbformat": 4,
 "nbformat_minor": 2
}
